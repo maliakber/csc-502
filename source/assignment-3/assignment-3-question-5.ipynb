{
 "cells": [
  {
   "cell_type": "code",
   "execution_count": 1,
   "metadata": {},
   "outputs": [],
   "source": [
    "# !apt-get install openjdk-8-jdk-headless -qq > /dev/null\n",
    "# !wget -q https://archive.apache.org/dist/spark/spark-2.4.4/spark-2.4.4-bin-hadoop2.7.tgz\n",
    "# !tar xf spark-2.4.4-bin-hadoop2.7.tgz\n",
    "# !pip install -q findspark\n",
    "\n",
    "# import os\n",
    "# os.environ[\"JAVA_HOME\"] = \"/usr/lib/jvm/java-8-openjdk-amd64\"\n",
    "# os.environ[\"SPARK_HOME\"] = \"/content/spark-2.4.4-bin-hadoop2.7\"\n",
    "\n",
    "import findspark\n",
    "findspark.init(\"../dataset/spark-2.4.4-bin-hadoop2.7\")# SPARK_HOME\n",
    "\n",
    "from pyspark import SparkConf, SparkContext"
   ]
  },
  {
   "cell_type": "code",
   "execution_count": 2,
   "metadata": {},
   "outputs": [],
   "source": [
    "conf = SparkConf().setMaster(\"local\").setAppName(\"MovieLensInsights\")\n",
    "sc = SparkContext(conf = conf)"
   ]
  },
  {
   "cell_type": "markdown",
   "metadata": {},
   "source": [
    "# Question 5 (1)"
   ]
  },
  {
   "cell_type": "code",
   "execution_count": 3,
   "metadata": {},
   "outputs": [],
   "source": [
    "linesRDD = sc.textFile('../dataset/ml-latest-small/ratings.csv')\n",
    "header = linesRDD.first() #extract header\n",
    "linesRDD = linesRDD.filter(lambda x: x != header) #filter out header\n",
    "ratingsRDD = linesRDD.map(lambda x: x.encode(\"ascii\", \"ignore\").split(',')[:-1]) #removing the timestamp column"
   ]
  },
  {
   "cell_type": "code",
   "execution_count": 4,
   "metadata": {
    "scrolled": false
   },
   "outputs": [
    {
     "name": "stdout",
     "output_type": "stream",
     "text": [
      "[['1', '1', '4.0'], ['1', '3', '4.0'], ['1', '6', '4.0'], ['1', '47', '5.0'], ['1', '50', '5.0'], ['1', '70', '3.0'], ['1', '101', '5.0'], ['1', '110', '4.0'], ['1', '151', '5.0'], ['1', '157', '5.0']]\n"
     ]
    }
   ],
   "source": [
    "print(ratingsRDD.collect()[:10])"
   ]
  },
  {
   "cell_type": "markdown",
   "metadata": {},
   "source": [
    "## average user rating"
   ]
  },
  {
   "cell_type": "code",
   "execution_count": 5,
   "metadata": {
    "scrolled": true
   },
   "outputs": [
    {
     "name": "stdout",
     "output_type": "stream",
     "text": [
      "[('u_199', 3.3953168044077136), ('u_198', 3.491304347826087), ('u_344', 3.7681159420289854), ('u_345', 3.903225806451613), ('u_346', 3.682926829268293), ('u_347', 3.5555555555555554), ('u_340', 4.214285714285714), ('u_341', 3.798076923076923), ('u_342', 2.9393939393939394), ('u_343', 4.059322033898305), ('u_348', 4.672727272727273), ('u_349', 3.72972972972973), ('u_298', 2.363684771033014), ('u_299', 3.652173913043478), ('u_296', 4.166666666666667), ('u_297', 2.5972222222222223), ('u_294', 2.610983981693364), ('u_295', 3.7439024390243905), ('u_292', 3.3015695067264574), ('u_293', 2.619047619047619)]\n"
     ]
    }
   ],
   "source": [
    "userRatingsRDD = ratingsRDD.map(lambda x: (x[0],(float(x[2]), 1)))\\\n",
    "                .reduceByKey(lambda x, y: (x[0] + y[0], x[1] + y[1]))\\\n",
    "                .map(lambda x: (\"u_\" + x[0], x[1][0] / x[1][1]))\n",
    "                #.sortBy(lambda x: -x[1])\n",
    "print(userRatingsRDD.collect()[:20])"
   ]
  },
  {
   "cell_type": "markdown",
   "metadata": {},
   "source": [
    "## average movie rating"
   ]
  },
  {
   "cell_type": "code",
   "execution_count": 6,
   "metadata": {},
   "outputs": [
    {
     "name": "stdout",
     "output_type": "stream",
     "text": [
      "[('m_110553', 2.6363636363636362), ('m_98160', 1.5), ('m_4447', 3.15625), ('m_5745', 5.0), ('m_172793', 5.0), ('m_101765', 4.25), ('m_188751', 4.5), ('m_114074', 3.3333333333333335), ('m_55292', 0.75), ('m_5988', 2.625), ('m_5989', 3.9217391304347826), ('m_55294', 2.5), ('m_5980', 3.5), ('m_5986', 4.0), ('m_5984', 3.5), ('m_103543', 3.5), ('m_87960', 3.0), ('m_965', 4.045454545454546), ('m_43871', 2.75), ('m_27370', 4.5)]\n"
     ]
    }
   ],
   "source": [
    "movieRatingsRDD = ratingsRDD.map(lambda x: (x[1],(float(x[2]), 1)))\\\n",
    "                .reduceByKey(lambda x, y: (x[0] + y[0], x[1] + y[1]))\\\n",
    "                .map(lambda x: (\"m_\" + x[0], x[1][0] / x[1][1]))\n",
    "                #.sortBy(lambda x: -x[1])\n",
    "print(movieRatingsRDD.collect()[:20])"
   ]
  },
  {
   "cell_type": "markdown",
   "metadata": {},
   "source": [
    "# Question 5 (2)"
   ]
  },
  {
   "cell_type": "code",
   "execution_count": 7,
   "metadata": {},
   "outputs": [],
   "source": [
    "import csv\n",
    "\n",
    "datafile = open('../dataset/ml-latest-small/movies.csv', 'r')\n",
    "myreader = csv.reader(datafile)\n",
    "\n",
    "movieGenres = {}\n",
    "for row in myreader:\n",
    "    movieGenres[row[0]] = row[2].split('|')"
   ]
  },
  {
   "cell_type": "code",
   "execution_count": 8,
   "metadata": {},
   "outputs": [
    {
     "name": "stdout",
     "output_type": "stream",
     "text": [
      "[('110553', ['Action', 'Sci-Fi', 'IMAX']), ('60141', ['Children', 'Comedy']), ('172793', ['Adventure', 'Animation', 'Children', 'Fantasy']), ('101765', ['Adventure', 'Comedy', 'Romance']), ('188751', ['Comedy', 'Romance']), ('114074', ['Drama']), ('55292', ['Comedy']), ('5988', ['Drama']), ('5989', ['Crime', 'Drama']), ('55294', ['Comedy', 'Crime', 'Drama'])]\n"
     ]
    }
   ],
   "source": [
    "print(movieGenres.items()[:10])"
   ]
  },
  {
   "cell_type": "markdown",
   "metadata": {},
   "source": [
    "## This a sample code for testing"
   ]
  },
  {
   "cell_type": "code",
   "execution_count": 9,
   "metadata": {},
   "outputs": [
    {
     "name": "stdout",
     "output_type": "stream",
     "text": [
      "[('Action', 2.5), ('Drama', 3.0), ('sci-fi', 1.5)]\n"
     ]
    }
   ],
   "source": [
    "sampleRating = sc.parallelize([[1, 4.0], [1, 2], [2, 1.5]])\n",
    "sampleGenres = dict()\n",
    "sampleGenres[1] = ['Action', 'Drama']\n",
    "sampleGenres[2] = ['sci-fi', 'Action']\n",
    "\n",
    "genreRatingsRDD = sampleRating.flatMap(lambda x: ((genre, (float(x[1]), 1)) for genre in sampleGenres[x[0]]))\\\n",
    "                .reduceByKey(lambda x, y: (x[0] + y[0], x[1] + y[1]))\\\n",
    "                .map(lambda x: (\"\" + x[0], x[1][0] / x[1][1]))\n",
    "                #.sortBy(lambda x: -x[1])\n",
    "print(genreRatingsRDD.collect())"
   ]
  },
  {
   "cell_type": "markdown",
   "metadata": {},
   "source": [
    "## average genre rating"
   ]
  },
  {
   "cell_type": "code",
   "execution_count": 10,
   "metadata": {},
   "outputs": [
    {
     "name": "stdout",
     "output_type": "stream",
     "text": [
      "[('Mystery', 3.632460255407871), ('Romance', 3.5065107040388437), ('Sci-Fi', 3.455721162210752), ('Horror', 3.258195034974626), ('Film-Noir', 3.920114942528736), ('Crime', 3.658293867274144), ('Drama', 3.6561844113718758), ('Fantasy', 3.4910005070136894), ('Western', 3.583937823834197), ('Animation', 3.6299370349170004), ('War', 3.8082938876312), ('IMAX', 3.618335343787696), ('Children', 3.412956125108601), ('Action', 3.447984331646809), ('(no genres listed)', 3.4893617021276597), ('Comedy', 3.3847207640898267), ('Documentary', 3.797785069729286), ('Musical', 3.5636781053649105), ('Thriller', 3.4937055799183425), ('Adventure', 3.5086089151939075)]\n"
     ]
    }
   ],
   "source": [
    "genreRatingsRDD = ratingsRDD.flatMap(lambda x: ((genre, (float(x[2]), 1)) for genre in movieGenres[x[1]]))\\\n",
    "                .reduceByKey(lambda x, y: (x[0] + y[0], x[1] + y[1]))\\\n",
    "                .map(lambda x: (x[0], x[1][0] / x[1][1]))\n",
    "                #.sortBy(lambda x: -x[1])\n",
    "print(genreRatingsRDD.collect())"
   ]
  }
 ],
 "metadata": {
  "kernelspec": {
   "display_name": "Python 2",
   "language": "python",
   "name": "python2"
  },
  "language_info": {
   "codemirror_mode": {
    "name": "ipython",
    "version": 2
   },
   "file_extension": ".py",
   "mimetype": "text/x-python",
   "name": "python",
   "nbconvert_exporter": "python",
   "pygments_lexer": "ipython2",
   "version": "2.7.17"
  }
 },
 "nbformat": 4,
 "nbformat_minor": 2
}
